{
 "cells": [
  {
   "cell_type": "markdown",
   "id": "87299cdd",
   "metadata": {},
   "source": [
    "##   Import Required Libraries"
   ]
  },
  {
   "cell_type": "code",
   "execution_count": null,
   "id": "68ebc831",
   "metadata": {},
   "outputs": [],
   "source": [
    "import pandas as pd\n",
    "import numpy as np\n",
    "import plotly.express as px"
   ]
  },
  {
   "cell_type": "markdown",
   "id": "e293e3fc",
   "metadata": {},
   "source": [
    "## Load the Dataset"
   ]
  },
  {
   "cell_type": "code",
   "execution_count": null,
   "id": "c84db5c1",
   "metadata": {},
   "outputs": [],
   "source": [
    "df = pd.read_csv(\"ecommerce_sales.csv\")\n",
    "df.head()"
   ]
  },
  {
   "cell_type": "markdown",
   "id": "c408b2c0",
   "metadata": {},
   "source": [
    "## Clean the Data"
   ]
  },
  {
   "cell_type": "code",
   "execution_count": null,
   "id": "0d8cbb83",
   "metadata": {},
   "outputs": [],
   "source": [
    "df.dropna(inplace=True)\n",
    "\n",
    "# Convert Order Date to datetime\n",
    "df['Order Date'] = pd.to_datetime(df['Order Date'], errors='coerce')\n",
    "df = df[df['Order Date'].notnull()]\n",
    "\n",
    "# Create Month column\n",
    "df['Month'] = df['Order Date'].dt.month\n",
    "\n",
    "# Add Sales column\n",
    "df['Sales'] = df['Quantity Ordered'] * df['Price Each']\n",
    "\n",
    "# Extract city from address\n",
    "def get_city(address):\n",
    "    return address.split(',')[1].strip() + ' (' + address.split(',')[2].split(' ')[1] + ')'\n",
    "\n",
    "df['City'] = df['Purchase Address'].apply(get_city)\n",
    "\n",
    "df.head()"
   ]
  },
  {
   "cell_type": "markdown",
   "id": "2b593498",
   "metadata": {},
   "source": [
    "##  Monthly Sales Analysis"
   ]
  },
  {
   "cell_type": "code",
   "execution_count": null,
   "id": "dea2f3c3",
   "metadata": {},
   "outputs": [],
   "source": [
    "monthly_sales = df.groupby('Month').sum(numeric_only=True)['Sales']\n",
    "\n",
    "fig = px.line(x=monthly_sales.index, y=monthly_sales.values,\n",
    "              labels={'x': 'Month', 'y': 'Sales in USD'},\n",
    "              title='📈 Monthly Sales Trend')\n",
    "fig.show()"
   ]
  },
  {
   "cell_type": "markdown",
   "id": "86e1cdef",
   "metadata": {},
   "source": [
    "## Sales by City"
   ]
  },
  {
   "cell_type": "code",
   "execution_count": null,
   "id": "70a82997",
   "metadata": {},
   "outputs": [],
   "source": [
    "city_sales = df.groupby('City').sum(numeric_only=True)['Sales']\n",
    "\n",
    "fig = px.bar(x=city_sales.index, y=city_sales.values,\n",
    "             labels={'x': 'City', 'y': 'Sales in USD'},\n",
    "             title='🏙️ Sales by City')\n",
    "fig.update_layout(xaxis_tickangle=-45)\n",
    "fig.show()"
   ]
  },
  {
   "cell_type": "markdown",
   "id": "08e8c4df",
   "metadata": {},
   "source": [
    "## Best Selling Products"
   ]
  },
  {
   "cell_type": "code",
   "execution_count": null,
   "id": "2f314432",
   "metadata": {},
   "outputs": [],
   "source": [
    "product_group = df.groupby('Product').sum(numeric_only=True)\n",
    "quantity_ordered = product_group['Quantity Ordered']\n",
    "products = product_group.index\n",
    "\n",
    "fig = px.bar(x=products, y=quantity_ordered,\n",
    "             labels={'x': 'Product', 'y': 'Quantity Sold'},\n",
    "             title='🔥 Best Selling Products')\n",
    "fig.update_layout(xaxis_tickangle=45)\n",
    "fig.show()"
   ]
  },
  {
   "cell_type": "markdown",
   "id": "217bde72",
   "metadata": {},
   "source": [
    "## Correlation - Price vs Quantity Ordered"
   ]
  },
  {
   "cell_type": "code",
   "execution_count": null,
   "id": "9fdefb13",
   "metadata": {},
   "outputs": [],
   "source": [
    "fig = px.scatter(df, x='Price Each', y='Quantity Ordered',\n",
    "                 title='💸 Price vs Quantity Ordered',\n",
    "                 labels={'Price Each': 'Product Price', 'Quantity Ordered': 'Qty Sold'},\n",
    "                 opacity=0.6)\n",
    "fig.show()"
   ]
  },
  {
   "cell_type": "markdown",
   "id": "91d0aabc",
   "metadata": {},
   "source": [
    "## Hourly Order Trends"
   ]
  },
  {
   "cell_type": "code",
   "execution_count": null,
   "id": "ff404715",
   "metadata": {},
   "outputs": [],
   "source": [
    "df['Hour'] = df['Order Date'].dt.hour\n",
    "hourly_orders = df.groupby('Hour').count()['Order ID']\n",
    "\n",
    "fig = px.line(x=hourly_orders.index, y=hourly_orders.values,\n",
    "              labels={'x': 'Hour of the Day', 'y': 'Number of Orders'},\n",
    "              title='⏰ Peak Order Hours')\n",
    "fig.show()"
   ]
  },
  {
   "cell_type": "markdown",
   "id": "5ee2bbc3",
   "metadata": {},
   "source": [
    "## Save Cleaned Dataset"
   ]
  },
  {
   "cell_type": "code",
   "execution_count": null,
   "id": "724edacb",
   "metadata": {},
   "outputs": [],
   "source": [
    "df.to_csv(\"cleaned_ecommerce_sales.csv\", index=False)"
   ]
  }
 ],
 "metadata": {
  "kernelspec": {
   "display_name": "Python 3",
   "language": "python",
   "name": "python3"
  }
 },
 "nbformat": 4,
 "nbformat_minor": 5
}
